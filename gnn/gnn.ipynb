{
  "cells": [
    {
      "cell_type": "code",
      "execution_count": null,
      "metadata": {
        "id": "zTXWBamGjqn2"
      },
      "outputs": [],
      "source": [
        "# !pip install tensorflow-gnn"
      ]
    },
    {
      "cell_type": "code",
      "execution_count": 1,
      "metadata": {
        "id": "482OK5YVjdIA"
      },
      "outputs": [],
      "source": [
        "import tensorflow as tf\n",
        "import tensorflow_gnn as tfgnn"
      ]
    },
    {
      "cell_type": "code",
      "execution_count": null,
      "metadata": {
        "id": "klnT8cxQjMcv"
      },
      "outputs": [],
      "source": [
        "# git clone "
      ]
    },
    {
      "cell_type": "code",
      "execution_count": 2,
      "metadata": {
        "id": "j3qW9pMCkF7J"
      },
      "outputs": [],
      "source": [
        "# Model hyper-parameters:\n",
        "h_dims = {'user': 256, 'movie': 64, 'genre': 128}"
      ]
    },
    {
      "cell_type": "code",
      "execution_count": 3,
      "metadata": {
        "id": "69wnYVBekF30"
      },
      "outputs": [],
      "source": [
        "# Model builder initialization:\n",
        "gnn = tfgnn.keras.ConvGNNBuilder(\n",
        "  lambda edge_set_name: WeightedSumConvolution(),\n",
        "  lambda node_set_name: tfgnn.keras.layers.NextStateFromConcat(\n",
        "      tf.keras.layers.Dense(h_dims[node_set_name]))\n",
        ")"
      ]
    },
    {
      "cell_type": "code",
      "execution_count": 4,
      "metadata": {
        "id": "R7q_oMe7kF2I"
      },
      "outputs": [],
      "source": [
        "# Two rounds of message passing to target node sets:\n",
        "model = tf.keras.models.Sequential([\n",
        "    gnn.Convolve({'genre'}),  # sends messages from movie to genre\n",
        "    gnn.Convolve({'user'}),  # sends messages from movie and genre to users\n",
        "    tfgnn.keras.layers.Readout(node_set_name=\"user\"),\n",
        "    tf.keras.layers.Dense(1)\n",
        "])"
      ]
    },
    {
      "cell_type": "code",
      "execution_count": 5,
      "metadata": {
        "id": "4o1SjmMAkFzV"
      },
      "outputs": [],
      "source": [
        "class WeightedSumConvolution(tf.keras.layers.Layer):\n",
        "  \"\"\"Weighted sum of source nodes states.\"\"\"\n",
        "\n",
        "  def call(self, graph: tfgnn.GraphTensor,\n",
        "           edge_set_name: tfgnn.EdgeSetName) -> tfgnn.Field:\n",
        "    messages = tfgnn.broadcast_node_to_edges(\n",
        "        graph,\n",
        "        edge_set_name,\n",
        "        tfgnn.SOURCE,\n",
        "        feature_name=tfgnn.DEFAULT_STATE_NAME)\n",
        "    weights = graph.edge_sets[edge_set_name]['weight']\n",
        "    weighted_messages = tf.expand_dims(weights, -1) * messages\n",
        "    pooled_messages = tfgnn.pool_edges_to_node(\n",
        "        graph,\n",
        "        edge_set_name,\n",
        "        tfgnn.TARGET,\n",
        "        reduce_type='sum',\n",
        "        feature_value=weighted_messages)\n",
        "    return pooled_messages\n"
      ]
    },
    {
      "cell_type": "code",
      "execution_count": null,
      "metadata": {
        "id": "NHbnDNm6kFwm"
      },
      "outputs": [],
      "source": []
    },
    {
      "cell_type": "code",
      "execution_count": null,
      "metadata": {
        "id": "oRUPSJeLkFt0"
      },
      "outputs": [],
      "source": []
    }
  ],
  "metadata": {
    "colab": {
      "provenance": []
    },
    "kernelspec": {
      "display_name": "Python 3",
      "language": "python",
      "name": "python3"
    },
    "language_info": {
      "codemirror_mode": {
        "name": "ipython",
        "version": 3
      },
      "file_extension": ".py",
      "mimetype": "text/x-python",
      "name": "python",
      "nbconvert_exporter": "python",
      "pygments_lexer": "ipython3",
      "version": "3.10.7"
    },
    "vscode": {
      "interpreter": {
        "hash": "9e0731db25be8ebc73bb8adf71fe5eb3ecba4b01af9380d400e38c4b00399760"
      }
    }
  },
  "nbformat": 4,
  "nbformat_minor": 0
}
