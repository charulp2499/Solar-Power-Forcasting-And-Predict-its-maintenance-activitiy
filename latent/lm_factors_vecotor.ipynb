{
 "cells": [
  {
   "cell_type": "code",
   "execution_count": 15,
   "metadata": {},
   "outputs": [],
   "source": [
    "# Import required libraries\n",
    "import pandas as pd\n",
    "from sklearn.datasets import load_iris\n",
    "from factor_analyzer import FactorAnalyzer\n",
    "import matplotlib.pyplot as plt"
   ]
  },
  {
   "cell_type": "code",
   "execution_count": 16,
   "metadata": {},
   "outputs": [],
   "source": [
    "df= pd.read_csv('solar_clean_data.csv')"
   ]
  },
  {
   "cell_type": "code",
   "execution_count": 17,
   "metadata": {},
   "outputs": [
    {
     "data": {
      "text/plain": [
       "Index(['Date', 'Total Generation (KWH)', 'Insolation', 'Grid Failure',\n",
       "       'Inverter', 'Module Cleaning', 'Rainy day',\n",
       "       'Transformer replacement and maintenance', 'Cable and Fuse maintenance',\n",
       "       'Plant Shutdown', 'Internet', 'Battery', 'Cloudy'],\n",
       "      dtype='object')"
      ]
     },
     "execution_count": 17,
     "metadata": {},
     "output_type": "execute_result"
    }
   ],
   "source": [
    "df.columns  "
   ]
  },
  {
   "cell_type": "code",
   "execution_count": 18,
   "metadata": {},
   "outputs": [],
   "source": [
    "df.drop(['Date'],axis=1,inplace=True)"
   ]
  },
  {
   "cell_type": "code",
   "execution_count": 19,
   "metadata": {},
   "outputs": [
    {
     "name": "stdout",
     "output_type": "stream",
     "text": [
      "<class 'pandas.core.frame.DataFrame'>\n",
      "RangeIndex: 2370 entries, 0 to 2369\n",
      "Data columns (total 12 columns):\n",
      " #   Column                                   Non-Null Count  Dtype  \n",
      "---  ------                                   --------------  -----  \n",
      " 0   Total Generation (KWH)                   2370 non-null   float64\n",
      " 1   Insolation                               2370 non-null   float64\n",
      " 2   Grid Failure                             2370 non-null   int64  \n",
      " 3   Inverter                                 2370 non-null   int64  \n",
      " 4   Module Cleaning                          2370 non-null   int64  \n",
      " 5   Rainy day                                2370 non-null   int64  \n",
      " 6   Transformer replacement and maintenance  2370 non-null   int64  \n",
      " 7   Cable and Fuse maintenance               2370 non-null   int64  \n",
      " 8   Plant Shutdown                           2370 non-null   int64  \n",
      " 9   Internet                                 2370 non-null   int64  \n",
      " 10  Battery                                  2370 non-null   int64  \n",
      " 11  Cloudy                                   2370 non-null   int64  \n",
      "dtypes: float64(2), int64(10)\n",
      "memory usage: 222.3 KB\n"
     ]
    }
   ],
   "source": [
    "df.info()"
   ]
  },
  {
   "cell_type": "code",
   "execution_count": 20,
   "metadata": {},
   "outputs": [
    {
     "data": {
      "text/html": [
       "<div>\n",
       "<style scoped>\n",
       "    .dataframe tbody tr th:only-of-type {\n",
       "        vertical-align: middle;\n",
       "    }\n",
       "\n",
       "    .dataframe tbody tr th {\n",
       "        vertical-align: top;\n",
       "    }\n",
       "\n",
       "    .dataframe thead th {\n",
       "        text-align: right;\n",
       "    }\n",
       "</style>\n",
       "<table border=\"1\" class=\"dataframe\">\n",
       "  <thead>\n",
       "    <tr style=\"text-align: right;\">\n",
       "      <th></th>\n",
       "      <th>Total Generation (KWH)</th>\n",
       "      <th>Insolation</th>\n",
       "      <th>Grid Failure</th>\n",
       "      <th>Inverter</th>\n",
       "      <th>Module Cleaning</th>\n",
       "      <th>Rainy day</th>\n",
       "      <th>Transformer replacement and maintenance</th>\n",
       "      <th>Cable and Fuse maintenance</th>\n",
       "      <th>Plant Shutdown</th>\n",
       "      <th>Internet</th>\n",
       "      <th>Battery</th>\n",
       "      <th>Cloudy</th>\n",
       "    </tr>\n",
       "  </thead>\n",
       "  <tbody>\n",
       "    <tr>\n",
       "      <th>0</th>\n",
       "      <td>3218.0</td>\n",
       "      <td>9.37536</td>\n",
       "      <td>1</td>\n",
       "      <td>0</td>\n",
       "      <td>0</td>\n",
       "      <td>0</td>\n",
       "      <td>0</td>\n",
       "      <td>0</td>\n",
       "      <td>0</td>\n",
       "      <td>0</td>\n",
       "      <td>0</td>\n",
       "      <td>0</td>\n",
       "    </tr>\n",
       "    <tr>\n",
       "      <th>1</th>\n",
       "      <td>3633.0</td>\n",
       "      <td>9.37536</td>\n",
       "      <td>1</td>\n",
       "      <td>0</td>\n",
       "      <td>0</td>\n",
       "      <td>0</td>\n",
       "      <td>0</td>\n",
       "      <td>0</td>\n",
       "      <td>0</td>\n",
       "      <td>0</td>\n",
       "      <td>0</td>\n",
       "      <td>0</td>\n",
       "    </tr>\n",
       "    <tr>\n",
       "      <th>2</th>\n",
       "      <td>4377.0</td>\n",
       "      <td>9.37536</td>\n",
       "      <td>0</td>\n",
       "      <td>1</td>\n",
       "      <td>0</td>\n",
       "      <td>0</td>\n",
       "      <td>0</td>\n",
       "      <td>0</td>\n",
       "      <td>0</td>\n",
       "      <td>0</td>\n",
       "      <td>0</td>\n",
       "      <td>0</td>\n",
       "    </tr>\n",
       "    <tr>\n",
       "      <th>3</th>\n",
       "      <td>4625.0</td>\n",
       "      <td>9.37536</td>\n",
       "      <td>0</td>\n",
       "      <td>1</td>\n",
       "      <td>0</td>\n",
       "      <td>0</td>\n",
       "      <td>0</td>\n",
       "      <td>0</td>\n",
       "      <td>0</td>\n",
       "      <td>0</td>\n",
       "      <td>0</td>\n",
       "      <td>0</td>\n",
       "    </tr>\n",
       "    <tr>\n",
       "      <th>4</th>\n",
       "      <td>648.0</td>\n",
       "      <td>9.37536</td>\n",
       "      <td>0</td>\n",
       "      <td>1</td>\n",
       "      <td>0</td>\n",
       "      <td>0</td>\n",
       "      <td>0</td>\n",
       "      <td>0</td>\n",
       "      <td>0</td>\n",
       "      <td>0</td>\n",
       "      <td>0</td>\n",
       "      <td>0</td>\n",
       "    </tr>\n",
       "  </tbody>\n",
       "</table>\n",
       "</div>"
      ],
      "text/plain": [
       "   Total Generation (KWH)  Insolation  Grid Failure  Inverter  \\\n",
       "0                  3218.0     9.37536             1         0   \n",
       "1                  3633.0     9.37536             1         0   \n",
       "2                  4377.0     9.37536             0         1   \n",
       "3                  4625.0     9.37536             0         1   \n",
       "4                   648.0     9.37536             0         1   \n",
       "\n",
       "   Module Cleaning  Rainy day  Transformer replacement and maintenance  \\\n",
       "0                0          0                                        0   \n",
       "1                0          0                                        0   \n",
       "2                0          0                                        0   \n",
       "3                0          0                                        0   \n",
       "4                0          0                                        0   \n",
       "\n",
       "   Cable and Fuse maintenance  Plant Shutdown  Internet  Battery  Cloudy  \n",
       "0                           0               0         0        0       0  \n",
       "1                           0               0         0        0       0  \n",
       "2                           0               0         0        0       0  \n",
       "3                           0               0         0        0       0  \n",
       "4                           0               0         0        0       0  "
      ]
     },
     "execution_count": 20,
     "metadata": {},
     "output_type": "execute_result"
    }
   ],
   "source": [
    "df.head()"
   ]
  },
  {
   "cell_type": "code",
   "execution_count": 21,
   "metadata": {},
   "outputs": [
    {
     "data": {
      "text/plain": [
       "(1668.094284931068, 7.125657576755328e-305)"
      ]
     },
     "execution_count": 21,
     "metadata": {},
     "output_type": "execute_result"
    }
   ],
   "source": [
    "from factor_analyzer.factor_analyzer import calculate_bartlett_sphericity\n",
    "chi_square_value,p_value=calculate_bartlett_sphericity(df)\n",
    "chi_square_value, p_value"
   ]
  },
  {
   "cell_type": "code",
   "execution_count": 23,
   "metadata": {},
   "outputs": [
    {
     "data": {
      "text/plain": [
       "0.6050587889415096"
      ]
     },
     "execution_count": 23,
     "metadata": {},
     "output_type": "execute_result"
    }
   ],
   "source": [
    "from factor_analyzer.factor_analyzer import calculate_kmo\n",
    "kmo_all,kmo_model=calculate_kmo(df)\n",
    "kmo_model"
   ]
  },
  {
   "cell_type": "code",
   "execution_count": 29,
   "metadata": {},
   "outputs": [
    {
     "data": {
      "text/plain": [
       "array([2.03543971, 1.14685108, 1.07081841, 1.05491949, 1.02460678,\n",
       "       1.00204643, 0.98426929, 0.94516836, 0.84585834, 0.79921424,\n",
       "       0.63162997, 0.45917789])"
      ]
     },
     "execution_count": 29,
     "metadata": {},
     "output_type": "execute_result"
    }
   ],
   "source": [
    "fa = FactorAnalyzer()\n",
    "fa.fit(df)\n",
    "fa.set_params(rotation=None)\n",
    "# Check Eigenvalues\n",
    "ev, v = fa.get_eigenvalues()\n",
    "ev"
   ]
  },
  {
   "cell_type": "code",
   "execution_count": 30,
   "metadata": {},
   "outputs": [
    {
     "data": {
      "image/png": "[encoded data removed]",
      "text/plain": [
       "<Figure size 640x480 with 1 Axes>"
      ]
     },
     "metadata": {},
     "output_type": "display_data"
    }
   ],
   "source": [
    "plt.scatter(range(1,df.shape[1]+1),ev)\n",
    "plt.plot(range(1,df.shape[1]+1),ev)\n",
    "plt.title('Scree Plot')\n",
    "plt.xlabel('Factors')\n",
    "plt.ylabel('Eigenvalue')\n",
    "plt.grid()\n",
    "plt.show()"
   ]
  },
  {
   "cell_type": "code",
   "execution_count": 47,
   "metadata": {},
   "outputs": [
    {
     "data": {
      "text/plain": [
       "array([[-2.20001341e-01, -3.42172494e-01, -1.01723829e-01,\n",
       "         9.02290931e-01, -6.13859311e-02, -3.68827487e-02],\n",
       "       [-5.62153682e-04, -1.64897792e-02, -1.50563845e-02,\n",
       "        -3.71348478e-02, -2.65880346e-02, -1.40461456e-02],\n",
       "       [ 3.02495150e-02, -6.48470772e-03,  9.96477201e-01,\n",
       "        -2.69520460e-02,  1.44697492e-02, -1.19629382e-02],\n",
       "       [ 9.91157354e-01,  4.96118637e-02,  2.69755060e-02,\n",
       "        -8.67184450e-02, -4.00729138e-02,  3.91609569e-02],\n",
       "       [-2.02726382e-01, -1.47032854e-01,  2.71024395e-02,\n",
       "         8.00879312e-02,  6.09379977e-01, -2.35229615e-02],\n",
       "       [ 3.28410775e-01,  2.61110339e-01, -4.35285659e-03,\n",
       "        -9.13936492e-02,  1.95378596e-02, -5.70313755e-02],\n",
       "       [ 5.25012068e-02, -3.56569167e-02, -1.37460141e-02,\n",
       "        -5.43457503e-02,  8.75734915e-02, -3.23313660e-02],\n",
       "       [-5.17763975e-02,  9.69908844e-03, -1.67580784e-03,\n",
       "         3.54339935e-02,  5.33140266e-02,  1.44510158e-01],\n",
       "       [-4.30258646e-03, -5.13052500e-03,  2.75458229e-02,\n",
       "         1.87264191e-02,  3.68002330e-02, -8.51676801e-04],\n",
       "       [-4.27362032e-02, -7.74059906e-02,  1.06893097e-02,\n",
       "         9.73936366e-03, -2.05912049e-01, -3.74714898e-02],\n",
       "       [ 8.53572944e-02, -5.09087690e-02, -3.39889615e-03,\n",
       "        -3.35574074e-02, -9.01646250e-02,  4.46977264e-01],\n",
       "       [ 1.16043367e-01,  9.84660655e-01, -2.54162836e-02,\n",
       "        -8.35579184e-02, -5.27248416e-02, -4.02078280e-02]])"
      ]
     },
     "execution_count": 47,
     "metadata": {},
     "output_type": "execute_result"
    }
   ],
   "source": [
    "fa = FactorAnalyzer(6,rotation='varimax')\n",
    "fa.fit(df)\n",
    "fa.loadings_"
   ]
  },
  {
   "cell_type": "code",
   "execution_count": 48,
   "metadata": {},
   "outputs": [
    {
     "data": {
      "text/plain": [
       "(array([1.20869446, 1.18918639, 1.00674475, 0.85128389, 0.44319115,\n",
       "        0.23177892]),\n",
       " array([0.10072454, 0.09909887, 0.0838954 , 0.07094032, 0.0369326 ,\n",
       "        0.01931491]),\n",
       " array([0.10072454, 0.1998234 , 0.2837188 , 0.35465912, 0.39159172,\n",
       "        0.41090663]))"
      ]
     },
     "execution_count": 48,
     "metadata": {},
     "output_type": "execute_result"
    }
   ],
   "source": [
    "fa.get_factor_variance()"
   ]
  },
  {
   "cell_type": "code",
   "execution_count": null,
   "metadata": {},
   "outputs": [],
   "source": []
  },
  {
   "cell_type": "code",
   "execution_count": null,
   "metadata": {},
   "outputs": [],
   "source": []
  },
  {
   "cell_type": "code",
   "execution_count": null,
   "metadata": {},
   "outputs": [],
   "source": []
  }
 ],
 "metadata": {
  "kernelspec": {
   "display_name": "Python 3",
   "language": "python",
   "name": "python3"
  },
  "language_info": {
   "codemirror_mode": {
    "name": "ipython",
    "version": 3
   },
   "file_extension": ".py",
   "mimetype": "text/x-python",
   "name": "python",
   "nbconvert_exporter": "python",
   "pygments_lexer": "ipython3",
   "version": "3.10.7"
  },
  "orig_nbformat": 4
 },
 "nbformat": 4,
 "nbformat_minor": 2
}
