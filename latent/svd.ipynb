{
 "cells": [
  {
   "cell_type": "code",
   "execution_count": 2,
   "metadata": {},
   "outputs": [],
   "source": [
    "import numpy as np\n",
    "import pandas as pd\n",
    "from scipy.linalg import svd, lu"
   ]
  },
  {
   "cell_type": "code",
   "execution_count": 3,
   "metadata": {},
   "outputs": [
    {
     "name": "stdout",
     "output_type": "stream",
     "text": [
      "[[ 3  3  2]\n",
      " [ 2  3 -2]]\n",
      "U:  [[-0.7815437 -0.6238505]\n",
      " [-0.6238505  0.7815437]]\n",
      "Singular array [5.54801894 2.86696457]\n",
      "V^{T} [[-0.64749817 -0.7599438  -0.05684667]\n",
      " [-0.10759258  0.16501062 -0.9804057 ]\n",
      " [-0.75443354  0.62869461  0.18860838]]\n"
     ]
    }
   ],
   "source": [
    "# define a matrix\n",
    "X = np.array([[3, 3, 2], [2, 3, -2]])\n",
    "print(X)\n",
    "# perform SVD\n",
    "U, singular, V_transpose = svd(X)\n",
    "# print different components\n",
    "print(\"U: \", U)\n",
    "print(\"Singular array\", singular)\n",
    "print(\"V^{T}\", V_transpose)"
   ]
  },
  {
   "attachments": {},
   "cell_type": "markdown",
   "metadata": {},
   "source": [
    "## Solar"
   ]
  },
  {
   "cell_type": "code",
   "execution_count": 4,
   "metadata": {},
   "outputs": [],
   "source": [
    "dat = pd.read_csv('solar_clean_data.csv')"
   ]
  },
  {
   "cell_type": "code",
   "execution_count": 5,
   "metadata": {},
   "outputs": [],
   "source": [
    "dat.drop('Date',axis=1,inplace=True)"
   ]
  },
  {
   "cell_type": "code",
   "execution_count": 6,
   "metadata": {},
   "outputs": [
    {
     "data": {
      "text/plain": [
       "array([[3.21800000e+03, 9.37535974e+00, 1.00000000e+00, ...,\n",
       "        0.00000000e+00, 0.00000000e+00, 0.00000000e+00],\n",
       "       [3.63300000e+03, 9.37535974e+00, 1.00000000e+00, ...,\n",
       "        0.00000000e+00, 0.00000000e+00, 0.00000000e+00],\n",
       "       [4.37700000e+03, 9.37535974e+00, 0.00000000e+00, ...,\n",
       "        0.00000000e+00, 0.00000000e+00, 0.00000000e+00],\n",
       "       ...,\n",
       "       [3.73203000e+03, 5.83400000e+00, 1.00000000e+00, ...,\n",
       "        0.00000000e+00, 0.00000000e+00, 0.00000000e+00],\n",
       "       [4.06388000e+03, 5.58400000e+00, 0.00000000e+00, ...,\n",
       "        0.00000000e+00, 0.00000000e+00, 0.00000000e+00],\n",
       "       [4.09390000e+03, 5.63500000e+00, 1.00000000e+00, ...,\n",
       "        0.00000000e+00, 0.00000000e+00, 0.00000000e+00]])"
      ]
     },
     "execution_count": 6,
     "metadata": {},
     "output_type": "execute_result"
    }
   ],
   "source": [
    "arr = np.array(dat)\n",
    "arr"
   ]
  },
  {
   "attachments": {},
   "cell_type": "markdown",
   "metadata": {},
   "source": [
    "## SVD"
   ]
  },
  {
   "cell_type": "code",
   "execution_count": 7,
   "metadata": {},
   "outputs": [
    {
     "name": "stdout",
     "output_type": "stream",
     "text": [
      "U:  [[-1.60203596e-02  6.30026229e-04 -2.52921673e-02 ... -1.97310808e-02\n",
      "  -1.70946686e-02 -2.14911270e-02]\n",
      " [-1.80863663e-02  4.41278478e-04 -2.36053543e-02 ... -3.54638856e-04\n",
      "   9.72367648e-04 -1.74688758e-04]\n",
      " [-2.17902431e-02  1.02909252e-04  1.28992118e-02 ...  2.81197622e-02\n",
      "  -1.73223713e-02  2.68354413e-02]\n",
      " ...\n",
      " [-1.85793347e-02 -3.94599124e-04 -3.19790129e-02 ...  9.97991307e-01\n",
      "   4.76267180e-04 -1.97750901e-03]\n",
      " [-2.02313901e-02 -6.01330398e-04  1.16271714e-02 ...  4.40778401e-04\n",
      "   9.94982183e-01  3.90596739e-04]\n",
      " [-2.03808408e-02 -6.03621432e-04 -3.05081174e-02 ... -1.98050289e-03\n",
      "   4.34713751e-04  9.98043747e-01]]\n",
      "Singular array [2.00870178e+05 4.47805769e+03 2.49051227e+01 2.35654742e+01\n",
      " 1.89070797e+01 1.40816316e+01 8.02735449e+00 7.53075785e+00\n",
      " 5.86195666e+00 5.07809263e+00 4.32518018e+00 9.99037536e-01]\n",
      "V^{T} [[-9.99997919e-01 -2.03668635e-03 -8.02168012e-05 -1.75631018e-05\n",
      "  -8.24029817e-05 -2.14323077e-06 -1.56964976e-06 -6.84519127e-06\n",
      "  -1.18261258e-07 -6.51387266e-06 -2.35597743e-06 -2.87296805e-05]\n",
      " [-2.03668269e-03  9.99997922e-01 -1.55293282e-06  5.34601924e-05\n",
      "  -6.30500781e-05  2.12859797e-07  4.05267725e-07 -7.53436764e-06\n",
      "  -1.66534520e-07 -1.59717706e-06 -1.18710226e-06  2.73545586e-05]\n",
      " [ 1.01229603e-04 -4.40234956e-06 -9.55620120e-01 -1.21784247e-01\n",
      "  -2.18587351e-01 -3.26325895e-02 -4.19263925e-03 -3.17733502e-03\n",
      "  -1.11615884e-03  7.25524417e-03 -5.39838000e-04 -1.51761682e-01]\n",
      " [-4.94978274e-05  7.92598629e-05 -1.12800978e-01 -2.57085769e-01\n",
      "   8.89564120e-01 -6.15539680e-02  7.98794180e-03  1.28244652e-02\n",
      "   9.76094420e-04 -2.83809380e-02 -1.61355173e-02 -3.53234433e-01]\n",
      " [ 3.88408575e-05  1.15568779e-05  2.53191371e-01 -2.10314575e-01\n",
      "  -3.75150711e-01 -1.21291211e-01 -6.42661688e-03 -7.26973602e-03\n",
      "   1.77995167e-04  5.07203627e-02  1.11607476e-02 -8.56400020e-01]\n",
      " [-9.48385778e-06 -3.23350583e-05 -9.89771943e-02  9.20006678e-01\n",
      "   1.30672312e-01  1.16269102e-01  2.57958797e-02 -2.89313514e-02\n",
      "  -6.97709356e-05 -2.57142188e-02  4.79282175e-02 -3.29752451e-01]\n",
      " [-3.63115655e-06  5.47469615e-06 -9.24644611e-05  1.53424784e-02\n",
      "  -2.03051012e-02  2.25947209e-02 -8.17408483e-03  9.75557665e-01\n",
      "  -5.94110513e-04 -2.05258389e-01  6.79809333e-02 -1.75909718e-02]\n",
      " [ 1.17037394e-05 -4.12543009e-06  1.17450805e-02 -2.42841116e-02\n",
      "  -4.55872343e-02 -5.79461521e-02  2.95863580e-03 -2.03302984e-01\n",
      "   3.94495612e-04 -9.75544703e-01 -2.13718487e-02 -1.87388988e-02]\n",
      " [ 5.10811362e-06  8.82862092e-06  4.84516233e-03 -1.47921683e-01\n",
      "  -1.76011078e-02  9.69176434e-01  1.90912262e-02 -1.98432380e-02\n",
      "   3.49936171e-04 -4.33898014e-02 -1.62901910e-01 -9.64618195e-02]\n",
      " [ 1.76906166e-06 -4.94928036e-06 -6.09201142e-04  7.21948021e-02\n",
      "  -1.02958812e-02 -1.53138997e-01  2.91388474e-02  7.37686181e-02\n",
      "  -1.00666471e-04  1.40924453e-02 -9.82201636e-01 -4.52105672e-03]\n",
      " [-4.68641582e-07 -1.19226568e-07  9.66404507e-04 -2.26471737e-02\n",
      "  -1.32119712e-02 -1.71258023e-02  9.98960526e-01  7.39607597e-03\n",
      "  -8.17890900e-04  2.87535812e-03  3.13436775e-02  7.07988548e-03]\n",
      " [ 2.63604352e-08  8.08963531e-08 -1.01414855e-03  2.75837549e-04\n",
      "  -1.03614914e-03 -2.78929336e-04  7.97738326e-04  6.63422561e-04\n",
      "   9.99998227e-01  3.06834903e-04  4.90902624e-05  3.40860916e-04]]\n"
     ]
    }
   ],
   "source": [
    "U, singular, V_transpose = svd(arr)\n",
    "# print different components\n",
    "print(\"U: \", U)\n",
    "print(\"Singular array\", singular)\n",
    "print(\"V^{T}\", V_transpose)"
   ]
  },
  {
   "attachments": {},
   "cell_type": "markdown",
   "metadata": {},
   "source": [
    "# QR"
   ]
  },
  {
   "cell_type": "code",
   "execution_count": 8,
   "metadata": {},
   "outputs": [
    {
     "name": "stdout",
     "output_type": "stream",
     "text": [
      "\n",
      "Q:\n",
      " [[-0.01602033 -0.00063075  0.03032787 ... -0.00530272 -0.00133927\n",
      "  -0.00781083]\n",
      " [-0.01808635 -0.0004421   0.0289669  ... -0.00584681 -0.00152048\n",
      "  -0.00846371]\n",
      " [-0.02179024 -0.00010388 -0.01435352 ... -0.0019278  -0.01092505\n",
      "  -0.01464462]\n",
      " ...\n",
      " [-0.01857935  0.00039374  0.02864194 ... -0.00056561  0.00049665\n",
      "  -0.00441772]\n",
      " [-0.02023142  0.00060043 -0.01332689 ... -0.00151869 -0.01079128\n",
      "  -0.01414882]\n",
      " [-0.02038087  0.00060268  0.0274552  ... -0.00104011  0.00033849\n",
      "  -0.00498684]]\n",
      "\n",
      "R:\n",
      " [[-2.00869760e+05 -4.08906225e+02 -1.61131632e+01 -3.52789250e+00\n",
      "  -1.65523142e+01 -4.30511093e-01 -3.15295741e-01 -1.37499631e+00\n",
      "  -2.37551934e-02 -1.30844309e+00 -4.73245848e-01 -5.77093042e+00]\n",
      " [ 0.00000000e+00 -4.47806696e+03  6.22264014e-03 -2.39554037e-01\n",
      "   2.81581975e-01 -9.71957888e-04 -1.82916574e-03  3.36766548e-02\n",
      "   7.44662037e-04  7.09301081e-03  5.29461827e-03 -1.22753618e-01]\n",
      " [ 0.00000000e+00  0.00000000e+00  2.44615194e+01  2.09128396e+00\n",
      "   1.52435780e+00  4.11385343e-01  3.75937255e-02  3.45134100e-02\n",
      "   2.52324497e-02  7.83597610e-02  5.61894564e-02  1.67662603e+00]\n",
      " [ 0.00000000e+00  0.00000000e+00  0.00000000e+00 -1.50373907e+01\n",
      "   4.09081583e+00 -2.36880503e+00 -2.53276200e-01  3.26848536e-01\n",
      "   9.07042993e-03  2.51255021e-01 -6.12752567e-01 -4.19654392e+00]\n",
      " [ 0.00000000e+00  0.00000000e+00  0.00000000e+00  0.00000000e+00\n",
      "  -2.24473421e+01 -8.63160300e-02 -3.01168881e-01 -2.15680693e-01\n",
      "  -2.36561705e-02  9.26926880e-01  2.41177764e-01  1.46459113e+00]\n",
      " [ 0.00000000e+00  0.00000000e+00  0.00000000e+00  0.00000000e+00\n",
      "   0.00000000e+00  6.16658201e+00  3.61361873e-02  1.86409101e-01\n",
      "  -1.88473477e-04  1.29171032e-02 -2.68791011e-01  5.02893095e+00]\n",
      " [ 0.00000000e+00  0.00000000e+00  0.00000000e+00  0.00000000e+00\n",
      "   0.00000000e+00  0.00000000e+00  4.32932034e+00 -9.78619757e-02\n",
      "  -3.06225865e-03 -1.68958906e-02 -5.17777367e-02 -3.89513047e-01]\n",
      " [ 0.00000000e+00  0.00000000e+00  0.00000000e+00  0.00000000e+00\n",
      "   0.00000000e+00  0.00000000e+00  0.00000000e+00 -7.99433464e+00\n",
      "   5.24003840e-03  2.11188456e-01 -3.30797235e-01 -2.15555280e-01]\n",
      " [ 0.00000000e+00  0.00000000e+00  0.00000000e+00  0.00000000e+00\n",
      "   0.00000000e+00  0.00000000e+00  0.00000000e+00  0.00000000e+00\n",
      "  -9.99059408e-01  1.45859201e-02 -1.23774412e-04  1.05807438e-01]\n",
      " [ 0.00000000e+00  0.00000000e+00  0.00000000e+00  0.00000000e+00\n",
      "   0.00000000e+00  0.00000000e+00  0.00000000e+00  0.00000000e+00\n",
      "   0.00000000e+00  7.57061411e+00  5.00892961e-02 -1.05832503e+00]\n",
      " [ 0.00000000e+00  0.00000000e+00  0.00000000e+00  0.00000000e+00\n",
      "   0.00000000e+00  0.00000000e+00  0.00000000e+00  0.00000000e+00\n",
      "   0.00000000e+00  0.00000000e+00  5.11393736e+00 -8.67436399e-01]\n",
      " [ 0.00000000e+00  0.00000000e+00  0.00000000e+00  0.00000000e+00\n",
      "   0.00000000e+00  0.00000000e+00  0.00000000e+00  0.00000000e+00\n",
      "   0.00000000e+00  0.00000000e+00  0.00000000e+00  1.78253243e+01]]\n"
     ]
    }
   ],
   "source": [
    "# Decomposition of the said matrix\n",
    "q, r = np.linalg.qr(arr)\n",
    "print('\\nQ:\\n', q)\n",
    "print('\\nR:\\n', r)"
   ]
  },
  {
   "attachments": {},
   "cell_type": "markdown",
   "metadata": {},
   "source": [
    "# LU"
   ]
  },
  {
   "attachments": {},
   "cell_type": "markdown",
   "metadata": {},
   "source": [
    "Returns:\n",
    "(If permute_l == False)\n",
    "\n",
    "p(M, M) ndarray\n",
    "\n",
    "Permutation matrix\n",
    "\n",
    "l(M, K) ndarray\n",
    "\n",
    "Lower triangular or trapezoidal matrix with unit diagonal. K = min(M, N)\n",
    "\n",
    "u(K, N) ndarray\n",
    "\n",
    "Upper triangular or trapezoidal matrix\n",
    "\n",
    "(If permute_l == True)\n",
    "\n",
    "pl(M, K) ndarray\n",
    "\n",
    "Permuted L matrix. K = min(M, N)\n",
    "\n",
    "u(K, N) ndarray\n",
    "\n",
    "Upper triangular or trapezoidal matrix"
   ]
  },
  {
   "cell_type": "code",
   "execution_count": 9,
   "metadata": {},
   "outputs": [
    {
     "name": "stdout",
     "output_type": "stream",
     "text": [
      "\n",
      "p:\n",
      " [[0. 0. 0. ... 0. 0. 0.]\n",
      " [0. 0. 0. ... 0. 0. 0.]\n",
      " [0. 0. 0. ... 0. 0. 0.]\n",
      " ...\n",
      " [0. 0. 0. ... 1. 0. 0.]\n",
      " [0. 0. 0. ... 0. 1. 0.]\n",
      " [0. 0. 0. ... 0. 0. 1.]]\n",
      "\n",
      "l:\n",
      " [[ 1.00000000e+00  0.00000000e+00  0.00000000e+00 ...  0.00000000e+00\n",
      "   0.00000000e+00  0.00000000e+00]\n",
      " [ 6.67217547e-01  1.00000000e+00  0.00000000e+00 ...  0.00000000e+00\n",
      "   0.00000000e+00  0.00000000e+00]\n",
      " [ 1.28086093e-01  2.35427450e-01  1.00000000e+00 ...  0.00000000e+00\n",
      "   0.00000000e+00  0.00000000e+00]\n",
      " ...\n",
      " [ 6.07057228e-01  3.27572353e-04  3.82082756e-01 ...  0.00000000e+00\n",
      "   0.00000000e+00  0.00000000e+00]\n",
      " [ 6.61036413e-01  1.75180293e-04 -6.42296008e-01 ...  0.00000000e+00\n",
      "   0.00000000e+00  0.00000000e+00]\n",
      " [ 6.65919509e-01  1.78776733e-04  3.24782627e-01 ...  0.00000000e+00\n",
      "   0.00000000e+00  0.00000000e+00]]\n",
      "\n",
      "u:\n",
      " [[ 6.14774000e+03  7.32500000e+00  1.00000000e+00  0.00000000e+00\n",
      "   0.00000000e+00  0.00000000e+00  0.00000000e+00  0.00000000e+00\n",
      "   0.00000000e+00  0.00000000e+00  0.00000000e+00  0.00000000e+00]\n",
      " [ 0.00000000e+00  4.23511263e+03 -6.67217547e-01  0.00000000e+00\n",
      "   0.00000000e+00  0.00000000e+00  0.00000000e+00  0.00000000e+00\n",
      "   0.00000000e+00  0.00000000e+00  0.00000000e+00  0.00000000e+00]\n",
      " [ 0.00000000e+00  0.00000000e+00  1.02899523e+00  1.00000000e+00\n",
      "   0.00000000e+00  0.00000000e+00  0.00000000e+00  0.00000000e+00\n",
      "   0.00000000e+00  0.00000000e+00  0.00000000e+00  0.00000000e+00]\n",
      " [ 0.00000000e+00  0.00000000e+00  0.00000000e+00  1.85297690e+00\n",
      "   0.00000000e+00  0.00000000e+00  0.00000000e+00  0.00000000e+00\n",
      "   0.00000000e+00  0.00000000e+00  0.00000000e+00  0.00000000e+00]\n",
      " [ 0.00000000e+00  0.00000000e+00  0.00000000e+00  0.00000000e+00\n",
      "   1.00000000e+00  0.00000000e+00  0.00000000e+00  0.00000000e+00\n",
      "   0.00000000e+00  0.00000000e+00  0.00000000e+00  0.00000000e+00]\n",
      " [ 0.00000000e+00  0.00000000e+00  0.00000000e+00  0.00000000e+00\n",
      "   0.00000000e+00  1.00000000e+00  0.00000000e+00  0.00000000e+00\n",
      "   0.00000000e+00  0.00000000e+00  0.00000000e+00  1.00000000e+00]\n",
      " [ 0.00000000e+00  0.00000000e+00  0.00000000e+00  0.00000000e+00\n",
      "   0.00000000e+00  0.00000000e+00  1.00000000e+00  0.00000000e+00\n",
      "   0.00000000e+00  0.00000000e+00  0.00000000e+00  0.00000000e+00]\n",
      " [ 0.00000000e+00  0.00000000e+00  0.00000000e+00  0.00000000e+00\n",
      "   0.00000000e+00  0.00000000e+00  0.00000000e+00  1.00000000e+00\n",
      "   0.00000000e+00  0.00000000e+00  0.00000000e+00  0.00000000e+00]\n",
      " [ 0.00000000e+00  0.00000000e+00  0.00000000e+00  0.00000000e+00\n",
      "   0.00000000e+00  0.00000000e+00  0.00000000e+00  0.00000000e+00\n",
      "   1.00000000e+00  0.00000000e+00  0.00000000e+00  0.00000000e+00]\n",
      " [ 0.00000000e+00  0.00000000e+00  0.00000000e+00  0.00000000e+00\n",
      "   0.00000000e+00  0.00000000e+00  0.00000000e+00  0.00000000e+00\n",
      "   0.00000000e+00  1.00000000e+00  0.00000000e+00  0.00000000e+00]\n",
      " [ 0.00000000e+00  0.00000000e+00  0.00000000e+00  0.00000000e+00\n",
      "   0.00000000e+00  0.00000000e+00  0.00000000e+00  0.00000000e+00\n",
      "   0.00000000e+00  0.00000000e+00  1.00000000e+00  0.00000000e+00]\n",
      " [ 0.00000000e+00  0.00000000e+00  0.00000000e+00  0.00000000e+00\n",
      "   0.00000000e+00  0.00000000e+00  0.00000000e+00  0.00000000e+00\n",
      "   0.00000000e+00  0.00000000e+00  0.00000000e+00  1.00000000e+00]]\n"
     ]
    }
   ],
   "source": [
    "# Decomposition of the said matrix\n",
    "p,l,u = lu(arr)\n",
    "print('\\np:\\n', p)\n",
    "print('\\nl:\\n', l)\n",
    "print('\\nu:\\n', u)"
   ]
  },
  {
   "cell_type": "code",
   "execution_count": 10,
   "metadata": {},
   "outputs": [
    {
     "name": "stdout",
     "output_type": "stream",
     "text": [
      "\n",
      "pl:\n",
      " [[ 5.23444388e-01  1.30837833e-03  4.63975508e-01 ...  0.00000000e+00\n",
      "   0.00000000e+00  0.00000000e+00]\n",
      " [ 5.90948869e-01  1.19162339e-03  3.98297475e-01 ...  0.00000000e+00\n",
      "   0.00000000e+00  0.00000000e+00]\n",
      " [ 7.11968951e-01  9.82308509e-04 -6.91270003e-01 ...  0.00000000e+00\n",
      "   0.00000000e+00  0.00000000e+00]\n",
      " ...\n",
      " [ 6.07057228e-01  3.27572353e-04  3.82082756e-01 ...  0.00000000e+00\n",
      "   0.00000000e+00  0.00000000e+00]\n",
      " [ 6.61036413e-01  1.75180293e-04 -6.42296008e-01 ...  0.00000000e+00\n",
      "   0.00000000e+00  0.00000000e+00]\n",
      " [ 6.65919509e-01  1.78776733e-04  3.24782627e-01 ...  0.00000000e+00\n",
      "   0.00000000e+00  0.00000000e+00]]\n",
      "\n",
      "u:\n",
      " [[ 6.14774000e+03  7.32500000e+00  1.00000000e+00  0.00000000e+00\n",
      "   0.00000000e+00  0.00000000e+00  0.00000000e+00  0.00000000e+00\n",
      "   0.00000000e+00  0.00000000e+00  0.00000000e+00  0.00000000e+00]\n",
      " [ 0.00000000e+00  4.23511263e+03 -6.67217547e-01  0.00000000e+00\n",
      "   0.00000000e+00  0.00000000e+00  0.00000000e+00  0.00000000e+00\n",
      "   0.00000000e+00  0.00000000e+00  0.00000000e+00  0.00000000e+00]\n",
      " [ 0.00000000e+00  0.00000000e+00  1.02899523e+00  1.00000000e+00\n",
      "   0.00000000e+00  0.00000000e+00  0.00000000e+00  0.00000000e+00\n",
      "   0.00000000e+00  0.00000000e+00  0.00000000e+00  0.00000000e+00]\n",
      " [ 0.00000000e+00  0.00000000e+00  0.00000000e+00  1.85297690e+00\n",
      "   0.00000000e+00  0.00000000e+00  0.00000000e+00  0.00000000e+00\n",
      "   0.00000000e+00  0.00000000e+00  0.00000000e+00  0.00000000e+00]\n",
      " [ 0.00000000e+00  0.00000000e+00  0.00000000e+00  0.00000000e+00\n",
      "   1.00000000e+00  0.00000000e+00  0.00000000e+00  0.00000000e+00\n",
      "   0.00000000e+00  0.00000000e+00  0.00000000e+00  0.00000000e+00]\n",
      " [ 0.00000000e+00  0.00000000e+00  0.00000000e+00  0.00000000e+00\n",
      "   0.00000000e+00  1.00000000e+00  0.00000000e+00  0.00000000e+00\n",
      "   0.00000000e+00  0.00000000e+00  0.00000000e+00  1.00000000e+00]\n",
      " [ 0.00000000e+00  0.00000000e+00  0.00000000e+00  0.00000000e+00\n",
      "   0.00000000e+00  0.00000000e+00  1.00000000e+00  0.00000000e+00\n",
      "   0.00000000e+00  0.00000000e+00  0.00000000e+00  0.00000000e+00]\n",
      " [ 0.00000000e+00  0.00000000e+00  0.00000000e+00  0.00000000e+00\n",
      "   0.00000000e+00  0.00000000e+00  0.00000000e+00  1.00000000e+00\n",
      "   0.00000000e+00  0.00000000e+00  0.00000000e+00  0.00000000e+00]\n",
      " [ 0.00000000e+00  0.00000000e+00  0.00000000e+00  0.00000000e+00\n",
      "   0.00000000e+00  0.00000000e+00  0.00000000e+00  0.00000000e+00\n",
      "   1.00000000e+00  0.00000000e+00  0.00000000e+00  0.00000000e+00]\n",
      " [ 0.00000000e+00  0.00000000e+00  0.00000000e+00  0.00000000e+00\n",
      "   0.00000000e+00  0.00000000e+00  0.00000000e+00  0.00000000e+00\n",
      "   0.00000000e+00  1.00000000e+00  0.00000000e+00  0.00000000e+00]\n",
      " [ 0.00000000e+00  0.00000000e+00  0.00000000e+00  0.00000000e+00\n",
      "   0.00000000e+00  0.00000000e+00  0.00000000e+00  0.00000000e+00\n",
      "   0.00000000e+00  0.00000000e+00  1.00000000e+00  0.00000000e+00]\n",
      " [ 0.00000000e+00  0.00000000e+00  0.00000000e+00  0.00000000e+00\n",
      "   0.00000000e+00  0.00000000e+00  0.00000000e+00  0.00000000e+00\n",
      "   0.00000000e+00  0.00000000e+00  0.00000000e+00  1.00000000e+00]]\n"
     ]
    }
   ],
   "source": [
    "# permute_l == True\n",
    "pl,u = lu(arr,permute_l=True)\n",
    "# print('\\np:\\n', p)\n",
    "print('\\npl:\\n', pl)\n",
    "print('\\nu:\\n', u)"
   ]
  },
  {
   "attachments": {},
   "cell_type": "markdown",
   "metadata": {},
   "source": [
    "# NMF"
   ]
  },
  {
   "cell_type": "code",
   "execution_count": 11,
   "metadata": {},
   "outputs": [],
   "source": [
    "from sklearn.decomposition import NMF"
   ]
  },
  {
   "cell_type": "code",
   "execution_count": 12,
   "metadata": {},
   "outputs": [
    {
     "data": {
      "text/plain": [
       "array([[1. , 1. ],\n",
       "       [2. , 1. ],\n",
       "       [3. , 1.2],\n",
       "       [4. , 1. ],\n",
       "       [5. , 0.8],\n",
       "       [6. , 1. ]])"
      ]
     },
     "execution_count": 12,
     "metadata": {},
     "output_type": "execute_result"
    }
   ],
   "source": [
    "X = np.array([[1, 1], [2, 1], [3, 1.2], [4, 1], [5, 0.8], [6, 1]])\n",
    "X"
   ]
  },
  {
   "cell_type": "code",
   "execution_count": 13,
   "metadata": {},
   "outputs": [],
   "source": [
    "model = NMF(n_components=2, init='random', random_state=0)\n",
    "W = model.fit_transform(arr)\n",
    "H = model.components_"
   ]
  },
  {
   "cell_type": "code",
   "execution_count": 14,
   "metadata": {},
   "outputs": [
    {
     "data": {
      "text/plain": [
       "array([[1.39849422e+02, 2.57326088e-01, 9.12477726e-03, 1.14515393e-03,\n",
       "        9.93052294e-03, 0.00000000e+00, 2.16478338e-04, 7.40577222e-04,\n",
       "        1.83521909e-05, 7.37564733e-04, 2.29846208e-04, 1.71181337e-03],\n",
       "       [1.54325493e+02, 7.04755771e-01, 3.30612081e-02, 2.11934341e-02,\n",
       "        2.48450150e-02, 5.42239713e-03, 2.60090692e-05, 3.44411123e-03,\n",
       "        0.00000000e+00, 2.74026410e-03, 1.59529460e-03, 3.73086063e-02]])"
      ]
     },
     "execution_count": 14,
     "metadata": {},
     "output_type": "execute_result"
    }
   ],
   "source": [
    "H"
   ]
  },
  {
   "cell_type": "code",
   "execution_count": 15,
   "metadata": {},
   "outputs": [
    {
     "data": {
      "text/plain": [
       "array([[1.80531544e+01, 4.49235366e+00],\n",
       "       [2.59778353e+01, 1.72529292e-04],\n",
       "       [2.66395089e+01, 4.22145195e+00],\n",
       "       ...,\n",
       "       [2.58182923e+01, 7.86322616e-01],\n",
       "       [2.61473557e+01, 2.63840039e+00],\n",
       "       [2.39757188e+01, 4.80083498e+00]])"
      ]
     },
     "execution_count": 15,
     "metadata": {},
     "output_type": "execute_result"
    }
   ],
   "source": [
    "W"
   ]
  },
  {
   "attachments": {},
   "cell_type": "markdown",
   "metadata": {},
   "source": [
    "## SVD scratch"
   ]
  },
  {
   "cell_type": "code",
   "execution_count": 16,
   "metadata": {},
   "outputs": [],
   "source": [
    "import numpy as np"
   ]
  },
  {
   "cell_type": "code",
   "execution_count": 17,
   "metadata": {},
   "outputs": [
    {
     "data": {
      "text/plain": [
       "array([[ 3,  2,  2],\n",
       "       [ 2,  3, -2]])"
      ]
     },
     "execution_count": 17,
     "metadata": {},
     "output_type": "execute_result"
    }
   ],
   "source": [
    "a = np.array([[3,2,2],[2,3,-2]])\n",
    "a"
   ]
  },
  {
   "cell_type": "code",
   "execution_count": 18,
   "metadata": {},
   "outputs": [
    {
     "data": {
      "text/plain": [
       "array([[ 3,  2],\n",
       "       [ 2,  3],\n",
       "       [ 2, -2]])"
      ]
     },
     "execution_count": 18,
     "metadata": {},
     "output_type": "execute_result"
    }
   ],
   "source": [
    "at = a.T\n",
    "at"
   ]
  },
  {
   "cell_type": "code",
   "execution_count": 19,
   "metadata": {},
   "outputs": [
    {
     "data": {
      "text/plain": [
       "array([[17,  8],\n",
       "       [ 8, 17]])"
      ]
     },
     "execution_count": 19,
     "metadata": {},
     "output_type": "execute_result"
    }
   ],
   "source": [
    "A = np.dot(a,at)\n",
    "A"
   ]
  },
  {
   "cell_type": "code",
   "execution_count": 20,
   "metadata": {},
   "outputs": [
    {
     "data": {
      "text/plain": [
       "array([[13, 12,  2],\n",
       "       [12, 13, -2],\n",
       "       [ 2, -2,  8]])"
      ]
     },
     "execution_count": 20,
     "metadata": {},
     "output_type": "execute_result"
    }
   ],
   "source": [
    "B = np.dot(at,a)\n",
    "B"
   ]
  },
  {
   "cell_type": "code",
   "execution_count": 21,
   "metadata": {},
   "outputs": [
    {
     "data": {
      "text/plain": [
       "(array([25.,  9.]),\n",
       " array([[ 0.70710678, -0.70710678],\n",
       "        [ 0.70710678,  0.70710678]]))"
      ]
     },
     "execution_count": 21,
     "metadata": {},
     "output_type": "execute_result"
    }
   ],
   "source": [
    "np.linalg.eig(A)"
   ]
  },
  {
   "cell_type": "code",
   "execution_count": 22,
   "metadata": {},
   "outputs": [
    {
     "data": {
      "text/plain": [
       "(array([2.5000000e+01, 5.0324328e-15, 9.0000000e+00]),\n",
       " array([[-7.07106781e-01, -6.66666667e-01,  2.35702260e-01],\n",
       "        [-7.07106781e-01,  6.66666667e-01, -2.35702260e-01],\n",
       "        [-4.59701721e-17,  3.33333333e-01,  9.42809042e-01]]))"
      ]
     },
     "execution_count": 22,
     "metadata": {},
     "output_type": "execute_result"
    }
   ],
   "source": [
    "np.linalg.eig(B)"
   ]
  },
  {
   "cell_type": "code",
   "execution_count": 51,
   "metadata": {},
   "outputs": [
    {
     "name": "stdout",
     "output_type": "stream",
     "text": [
      "c:\n",
      " [[-4 -7]\n",
      " [ 1  4]]\n",
      "ct:\n",
      " [[-4  1]\n",
      " [-7  4]]\n"
     ]
    },
    {
     "data": {
      "text/plain": [
       "array([[ 65, -32],\n",
       "       [-32,  17]])"
      ]
     },
     "execution_count": 51,
     "metadata": {},
     "output_type": "execute_result"
    }
   ],
   "source": [
    "c = np.array([[-4,-7],[1,4]])\n",
    "print('c:\\n',c)\n",
    "ct = c.T\n",
    "print('ct:\\n',ct)\n",
    "np.dot(c,ct)"
   ]
  },
  {
   "cell_type": "code",
   "execution_count": 61,
   "metadata": {},
   "outputs": [
    {
     "name": "stdout",
     "output_type": "stream",
     "text": [
      "[81.  1.]\n",
      "[[ 0.89442719  0.4472136 ]\n",
      " [-0.4472136   0.89442719]]\n"
     ]
    }
   ],
   "source": [
    "C = np.array([[65,-32],[-32,17]])\n",
    "w,h = np.linalg.eig(C)\n",
    "print(w)\n",
    "print(h)"
   ]
  },
  {
   "cell_type": "code",
   "execution_count": 62,
   "metadata": {},
   "outputs": [
    {
     "data": {
      "text/plain": [
       "array([[81.,  0.],\n",
       "       [ 0.,  1.]])"
      ]
     },
     "execution_count": 62,
     "metadata": {},
     "output_type": "execute_result"
    }
   ],
   "source": [
    "wd = np.diag(w)\n",
    "wd"
   ]
  },
  {
   "cell_type": "code",
   "execution_count": 77,
   "metadata": {},
   "outputs": [
    {
     "data": {
      "image/png": "[encoded data removed]",
      "text/latex": [
       "$\\displaystyle 2$"
      ],
      "text/plain": [
       "2"
      ]
     },
     "execution_count": 77,
     "metadata": {},
     "output_type": "execute_result"
    }
   ],
   "source": [
    "len(w)"
   ]
  },
  {
   "cell_type": "code",
   "execution_count": 74,
   "metadata": {},
   "outputs": [
    {
     "data": {
      "text/plain": [
       "array([[-0.3478328 , -0.49690399],\n",
       "       [ 2.68328157,  6.70820393]])"
      ]
     },
     "execution_count": 74,
     "metadata": {},
     "output_type": "execute_result"
    }
   ],
   "source": [
    "kk=[]\n",
    "for i in range(len(h)):\n",
    "    kk.append(np.dot(ct,h[i])/np.sqrt(w[i]))\n",
    "np.array(kk)"
   ]
  },
  {
   "cell_type": "code",
   "execution_count": 24,
   "metadata": {},
   "outputs": [
    {
     "data": {
      "text/plain": [
       "2.23606797749979"
      ]
     },
     "execution_count": 24,
     "metadata": {},
     "output_type": "execute_result"
    }
   ],
   "source": [
    "np.sqrt(5)"
   ]
  },
  {
   "cell_type": "code",
   "execution_count": 25,
   "metadata": {},
   "outputs": [
    {
     "data": {
      "text/plain": [
       "1.9989840000000003"
      ]
     },
     "execution_count": 25,
     "metadata": {},
     "output_type": "execute_result"
    }
   ],
   "source": [
    "0.894*2.236"
   ]
  },
  {
   "cell_type": "code",
   "execution_count": 26,
   "metadata": {},
   "outputs": [
    {
     "data": {
      "text/plain": [
       "-0.8944543828264757"
      ]
     },
     "execution_count": 26,
     "metadata": {},
     "output_type": "execute_result"
    }
   ],
   "source": [
    "-2/2.236"
   ]
  },
  {
   "cell_type": "code",
   "execution_count": 27,
   "metadata": {},
   "outputs": [
    {
     "data": {
      "text/plain": [
       "(array([[-0.70710678, -0.70710678],\n",
       "        [-0.70710678,  0.70710678]]),\n",
       " array([25.,  9.]),\n",
       " array([[-0.70710678, -0.70710678],\n",
       "        [-0.70710678,  0.70710678]]))"
      ]
     },
     "execution_count": 27,
     "metadata": {},
     "output_type": "execute_result"
    }
   ],
   "source": [
    "np.linalg.svd(A)"
   ]
  },
  {
   "cell_type": "code",
   "execution_count": 28,
   "metadata": {},
   "outputs": [
    {
     "data": {
      "text/plain": [
       "array([[1, 0, 0],\n",
       "       [0, 2, 0],\n",
       "       [0, 0, 3]])"
      ]
     },
     "execution_count": 28,
     "metadata": {},
     "output_type": "execute_result"
    }
   ],
   "source": [
    "np.diag((1, 2, 3))"
   ]
  },
  {
   "cell_type": "code",
   "execution_count": 29,
   "metadata": {},
   "outputs": [
    {
     "data": {
      "text/latex": [
       "$\\displaystyle \\left[ \\left( 1, \\  1, \\  \\left[ \\left[\\begin{matrix}\\frac{1}{2}\\\\1\\end{matrix}\\right]\\right]\\right), \\  \\left( 81, \\  1, \\  \\left[ \\left[\\begin{matrix}-2\\\\1\\end{matrix}\\right]\\right]\\right)\\right]$"
      ],
      "text/plain": [
       "⎡⎛      ⎡⎡1/2⎤⎤⎞  ⎛       ⎡⎡-2⎤⎤⎞⎤\n",
       "⎢⎜1, 1, ⎢⎢   ⎥⎥⎟, ⎜81, 1, ⎢⎢  ⎥⎥⎟⎥\n",
       "⎣⎝      ⎣⎣ 1 ⎦⎦⎠  ⎝       ⎣⎣1 ⎦⎦⎠⎦"
      ]
     },
     "execution_count": 29,
     "metadata": {},
     "output_type": "execute_result"
    }
   ],
   "source": [
    "import sympy as sp\n",
    "sp.init_printing(use_unicode=True)\n",
    "\n",
    "mat_a = sp.Matrix(C)\n",
    "xx = mat_a.eigenvects()\n",
    "xx"
   ]
  },
  {
   "cell_type": "code",
   "execution_count": 30,
   "metadata": {},
   "outputs": [
    {
     "data": {
      "text/plain": [
       "array([[-2],\n",
       "       [1]], dtype=object)"
      ]
     },
     "execution_count": 30,
     "metadata": {},
     "output_type": "execute_result"
    }
   ],
   "source": [
    "np.array(xx[1][-1][0])"
   ]
  },
  {
   "cell_type": "code",
   "execution_count": 31,
   "metadata": {},
   "outputs": [
    {
     "data": {
      "image/png": "[encoded data removed]",
      "text/latex": [
       "$\\displaystyle \\left[ \\right]$"
      ],
      "text/plain": [
       "[]"
      ]
     },
     "execution_count": 31,
     "metadata": {},
     "output_type": "execute_result"
    }
   ],
   "source": [
    "# ev = np.array([])\n",
    "ev=[]\n",
    "ev"
   ]
  },
  {
   "cell_type": "code",
   "execution_count": 32,
   "metadata": {},
   "outputs": [
    {
     "name": "stdout",
     "output_type": "stream",
     "text": [
      "Matrix([[1/2], [1]])\n",
      "Matrix([[-2], [1]])\n"
     ]
    }
   ],
   "source": [
    "for i in range(len(xx)):\n",
    "    print(xx[i][-1][0])\n",
    "    vec = np.array(xx[1][-1][0])\n",
    "    # ev = np.append(ev,np.array(xx[1][-1][0]))\n",
    "    ev.append(vec)"
   ]
  },
  {
   "cell_type": "code",
   "execution_count": 33,
   "metadata": {},
   "outputs": [
    {
     "data": {
      "text/plain": [
       "[array([[-2],\n",
       "        [1]], dtype=object),\n",
       " array([[-2],\n",
       "        [1]], dtype=object)]"
      ]
     },
     "execution_count": 33,
     "metadata": {},
     "output_type": "execute_result"
    }
   ],
   "source": [
    "ev"
   ]
  },
  {
   "attachments": {},
   "cell_type": "markdown",
   "metadata": {},
   "source": [
    "### solar eigenvalues eigenvectors "
   ]
  },
  {
   "cell_type": "code",
   "execution_count": 34,
   "metadata": {},
   "outputs": [],
   "source": [
    "arr_t = arr.T"
   ]
  },
  {
   "cell_type": "code",
   "execution_count": 35,
   "metadata": {},
   "outputs": [
    {
     "data": {
      "text/plain": [
       "array([[3.21800000e+03, 9.37535974e+00, 1.00000000e+00, ...,\n",
       "        0.00000000e+00, 0.00000000e+00, 0.00000000e+00],\n",
       "       [3.63300000e+03, 9.37535974e+00, 1.00000000e+00, ...,\n",
       "        0.00000000e+00, 0.00000000e+00, 0.00000000e+00],\n",
       "       [4.37700000e+03, 9.37535974e+00, 0.00000000e+00, ...,\n",
       "        0.00000000e+00, 0.00000000e+00, 0.00000000e+00],\n",
       "       ...,\n",
       "       [3.73203000e+03, 5.83400000e+00, 1.00000000e+00, ...,\n",
       "        0.00000000e+00, 0.00000000e+00, 0.00000000e+00],\n",
       "       [4.06388000e+03, 5.58400000e+00, 0.00000000e+00, ...,\n",
       "        0.00000000e+00, 0.00000000e+00, 0.00000000e+00],\n",
       "       [4.09390000e+03, 5.63500000e+00, 1.00000000e+00, ...,\n",
       "        0.00000000e+00, 0.00000000e+00, 0.00000000e+00]])"
      ]
     },
     "execution_count": 35,
     "metadata": {},
     "output_type": "execute_result"
    }
   ],
   "source": [
    "arr"
   ]
  },
  {
   "cell_type": "code",
   "execution_count": 36,
   "metadata": {},
   "outputs": [
    {
     "data": {
      "text/plain": [
       "array([[3.21800000e+03, 3.63300000e+03, 4.37700000e+03, ...,\n",
       "        3.73203000e+03, 4.06388000e+03, 4.09390000e+03],\n",
       "       [9.37535974e+00, 9.37535974e+00, 9.37535974e+00, ...,\n",
       "        5.83400000e+00, 5.58400000e+00, 5.63500000e+00],\n",
       "       [1.00000000e+00, 1.00000000e+00, 0.00000000e+00, ...,\n",
       "        1.00000000e+00, 0.00000000e+00, 1.00000000e+00],\n",
       "       ...,\n",
       "       [0.00000000e+00, 0.00000000e+00, 0.00000000e+00, ...,\n",
       "        0.00000000e+00, 0.00000000e+00, 0.00000000e+00],\n",
       "       [0.00000000e+00, 0.00000000e+00, 0.00000000e+00, ...,\n",
       "        0.00000000e+00, 0.00000000e+00, 0.00000000e+00],\n",
       "       [0.00000000e+00, 0.00000000e+00, 0.00000000e+00, ...,\n",
       "        0.00000000e+00, 0.00000000e+00, 0.00000000e+00]])"
      ]
     },
     "execution_count": 36,
     "metadata": {},
     "output_type": "execute_result"
    }
   ],
   "source": [
    "arr_t"
   ]
  },
  {
   "cell_type": "code",
   "execution_count": 37,
   "metadata": {},
   "outputs": [
    {
     "data": {
      "text/plain": [
       "array([[10355612.89737031, 11691082.89737031, 14085273.89737031, ...,\n",
       "        12009728.23584874, 13077618.1920088 , 13174224.03015215],\n",
       "       [11691082.89737031, 13198777.89737031, 15901728.89737031, ...,\n",
       "        13558520.68584874, 14764128.39200881, 14873192.53015215],\n",
       "       [14085273.89737031, 15901728.89737031, 19158217.89737031, ...,\n",
       "        16335150.00584874, 17787656.11200881, 17919053.13015215],\n",
       "       ...,\n",
       "       [12009728.23584874, 13558520.68584874, 16335150.00584874, ...,\n",
       "        13928083.956456  , 15166554.653456  , 15278592.49159   ],\n",
       "       [13077618.1920088 , 14764128.39200881, 17787656.11200881, ...,\n",
       "        15166554.653456  , 16515152.835456  , 16637149.79784   ],\n",
       "       [13174224.03015215, 14873192.53015215, 17919053.13015215, ...,\n",
       "        15278592.49159   , 16637149.79784   , 16760050.963225  ]])"
      ]
     },
     "execution_count": 37,
     "metadata": {},
     "output_type": "execute_result"
    }
   ],
   "source": [
    "AAT = np.dot(arr, arr_t)\n",
    "AAT"
   ]
  },
  {
   "cell_type": "code",
   "execution_count": 38,
   "metadata": {},
   "outputs": [
    {
     "name": "stdout",
     "output_type": "stream",
     "text": [
      "eigenvalues are: ----> \n",
      " [ 4.03488285e+10+0.j  2.00530007e+07+0.j  6.20265136e+02+0.j ...\n",
      " -3.67312740e-14+0.j -8.05007175e-14+0.j  1.58538123e-23+0.j] \n",
      " normalized eigenvectors are: ----> \n",
      " [[-1.60203596e-02+0.j  6.30026229e-04+0.j  2.52921673e-02+0.j ...\n",
      "  -3.10049217e-04+0.j  5.78439008e-04+0.j  2.15577248e-14+0.j]\n",
      " [-1.80863663e-02+0.j  4.41278478e-04+0.j  2.36053543e-02+0.j ...\n",
      "  -4.89063537e-06+0.j  8.59653762e-06+0.j  4.25012109e-16+0.j]\n",
      " [-2.17902431e-02+0.j  1.02909252e-04+0.j -1.28992114e-02+0.j ...\n",
      "   7.94609793e-05+0.j -1.45723462e-04+0.j -5.94183296e-15+0.j]\n",
      " ...\n",
      " [-1.85793347e-02+0.j -3.94599124e-04+0.j  3.19790127e-02+0.j ...\n",
      "  -1.32265685e-03+0.j  2.46601466e-03+0.j  9.19935614e-14+0.j]\n",
      " [-2.02313901e-02+0.j -6.01330398e-04+0.j -1.16271714e-02+0.j ...\n",
      "   2.86794113e-04+0.j -7.32891795e-04+0.j  1.79517047e-15+0.j]\n",
      " [-2.03808408e-02+0.j -6.03621432e-04+0.j  3.05081173e-02+0.j ...\n",
      "   1.03155519e-04+0.j -2.33478099e-04+0.j -1.04377160e-15+0.j]]\n"
     ]
    }
   ],
   "source": [
    "eigenvalue, eigenvector = np.linalg.eig(AAT)\n",
    "print('eigenvalues are: ----> \\n',eigenvalue, '\\n normalized eigenvectors are: ----> \\n',eigenvector)"
   ]
  },
  {
   "cell_type": "code",
   "execution_count": 78,
   "metadata": {},
   "outputs": [
    {
     "data": {
      "image/png": "[encoded data removed]",
      "text/latex": [
       "$\\displaystyle 2370$"
      ],
      "text/plain": [
       "2370"
      ]
     },
     "execution_count": 78,
     "metadata": {},
     "output_type": "execute_result"
    }
   ],
   "source": [
    "len(eigenvalue)"
   ]
  },
  {
   "cell_type": "code",
   "execution_count": 80,
   "metadata": {},
   "outputs": [
    {
     "data": {
      "image/png": "[encoded data removed]",
      "text/latex": [
       "$\\displaystyle 2370$"
      ],
      "text/plain": [
       "2370"
      ]
     },
     "execution_count": 80,
     "metadata": {},
     "output_type": "execute_result"
    }
   ],
   "source": [
    "len(eigenvector)"
   ]
  },
  {
   "cell_type": "code",
   "execution_count": 39,
   "metadata": {},
   "outputs": [],
   "source": [
    "import sympy as sp\n",
    "sp.init_printing(use_unicode=True)"
   ]
  },
  {
   "cell_type": "code",
   "execution_count": 40,
   "metadata": {},
   "outputs": [],
   "source": [
    "# mat_a = sp.Matrix(AAT)\n",
    "# xx = mat_a.eigenvects()\n",
    "# xx"
   ]
  },
  {
   "cell_type": "code",
   "execution_count": 41,
   "metadata": {},
   "outputs": [
    {
     "name": "stdout",
     "output_type": "stream",
     "text": [
      "Matrix([[1/2], [1]])\n",
      "Matrix([[-2], [1]])\n",
      "[array([[-2],\n",
      "       [1]], dtype=object), array([[-2],\n",
      "       [1]], dtype=object)]\n"
     ]
    }
   ],
   "source": [
    "# ev = np.array([])\n",
    "ev=[]\n",
    "ev\n",
    "for i in range(len(xx)):\n",
    "    print(xx[i][-1][0])\n",
    "    vec = np.array(xx[1][-1][0])\n",
    "    # ev = np.append(ev,np.array(xx[1][-1][0]))\n",
    "    ev.append(vec)\n",
    "print(ev)"
   ]
  },
  {
   "attachments": {},
   "cell_type": "markdown",
   "metadata": {},
   "source": [
    "### MOVING FURTHER\n"
   ]
  },
  {
   "cell_type": "code",
   "execution_count": 43,
   "metadata": {},
   "outputs": [
    {
     "data": {
      "text/plain": [
       "array([2.00870178e+05+0.00000000e+00j, 4.47805769e+03+0.00000000e+00j,\n",
       "       2.49051227e+01+0.00000000e+00j, ...,\n",
       "       0.00000000e+00+1.91654048e-07j, 0.00000000e+00+2.83726484e-07j,\n",
       "       3.98168460e-12+0.00000000e+00j])"
      ]
     },
     "execution_count": 43,
     "metadata": {},
     "output_type": "execute_result"
    }
   ],
   "source": [
    "sigma = np.sqrt(eigenvalue)\n",
    "sigma"
   ]
  },
  {
   "cell_type": "code",
   "execution_count": 45,
   "metadata": {},
   "outputs": [
    {
     "data": {
      "text/plain": [
       "array([1, 2, 3])"
      ]
     },
     "execution_count": 45,
     "metadata": {},
     "output_type": "execute_result"
    }
   ],
   "source": [
    "cc = np.array([1,2,3])\n",
    "cc"
   ]
  },
  {
   "cell_type": "code",
   "execution_count": 46,
   "metadata": {},
   "outputs": [
    {
     "data": {
      "text/plain": [
       "array([1., 1., 1.])"
      ]
     },
     "execution_count": 46,
     "metadata": {},
     "output_type": "execute_result"
    }
   ],
   "source": [
    "cc/np.array([1,2,3])"
   ]
  },
  {
   "cell_type": "code",
   "execution_count": 82,
   "metadata": {},
   "outputs": [],
   "source": [
    "from tqdm import tqdm"
   ]
  },
  {
   "cell_type": "code",
   "execution_count": 83,
   "metadata": {},
   "outputs": [
    {
     "name": "stderr",
     "output_type": "stream",
     "text": [
      "100%|██████████| 2370/2370 [00:49<00:00, 47.79it/s]\n"
     ]
    },
    {
     "data": {
      "text/plain": [
       "array([[ 5.03175195e+00-5.13802520e-01j,  5.68068145e+00-5.80074830e-01j,\n",
       "         6.84406376e+00-6.98886576e-01j, ...,\n",
       "         5.83560473e+00-5.95921933e-01j,  6.35451864e+00-6.48918797e-01j,\n",
       "         6.40145961e+00-6.53711632e-01j],\n",
       "       [-3.67227913e+01-2.60951557e+00j, -4.14585038e+01-2.94580728e+00j,\n",
       "        -4.99485459e+01-3.54869749e+00j, ...,\n",
       "        -4.25881778e+01-3.02536283e+00j, -4.63749998e+01-3.29422236e+00j,\n",
       "        -4.67175828e+01-3.31856221e+00j],\n",
       "       [-4.32072908e+04-5.62955596e+03j, -4.87788559e+04-6.35462649e+03j,\n",
       "        -5.87673974e+04-7.65451239e+03j, ...,\n",
       "        -5.01068038e+04-6.52492841e+03j, -5.45619328e+04-7.10452981e+03j,\n",
       "        -5.49649858e+04-7.15701957e+03j],\n",
       "       ...,\n",
       "       [ 1.03429931e+13-9.38525143e+13j,  1.16764981e+13-1.05956189e+14j,\n",
       "         1.40671690e+13-1.27655308e+14j, ...,\n",
       "         1.19936847e+13-1.08845200e+14j,  1.30599363e+13-1.18523820e+14j,\n",
       "         1.31564115e+13-1.19399355e+14j],\n",
       "       [-4.52561958e+12-5.06370862e+13j, -5.10894102e+12-5.71664968e+13j,\n",
       "        -6.15470200e+12-6.88722341e+13j, ...,\n",
       "        -5.24722406e+12-5.87220880e+13j, -5.71360456e+12-6.39430781e+13j,\n",
       "        -5.75581496e+12-6.44154362e+13j],\n",
       "       [-3.30966764e+18+1.02418567e+17j, -3.73650619e+18+1.15656816e+17j,\n",
       "        -4.50172988e+18+1.39390118e+17j, ...,\n",
       "        -3.83841094e+18+1.18903970e+17j, -4.17973068e+18+1.29496212e+17j,\n",
       "        -4.21060665e+18+1.30452360e+17j]])"
      ]
     },
     "execution_count": 83,
     "metadata": {},
     "output_type": "execute_result"
    }
   ],
   "source": [
    "U=[]\n",
    "for i in tqdm(range(len(eigenvector))):\n",
    "    U.append(np.dot(AAT,eigenvector[i])/np.sqrt(eigenvalue[i]))\n",
    "U_final = np.array(U)\n",
    "U_final"
   ]
  },
  {
   "attachments": {},
   "cell_type": "markdown",
   "metadata": {},
   "source": [
    "## Finally we have 'U_final' and eigenvalues matrix "
   ]
  },
  {
   "attachments": {},
   "cell_type": "markdown",
   "metadata": {},
   "source": [
    "### we can now promote S = eigenvalues , U_final"
   ]
  },
  {
   "attachments": {},
   "cell_type": "markdown",
   "metadata": {},
   "source": [
    "### now need to regularize it"
   ]
  },
  {
   "attachments": {},
   "cell_type": "markdown",
   "metadata": {},
   "source": [
    "may use Gradient Descent"
   ]
  },
  {
   "cell_type": "code",
   "execution_count": null,
   "metadata": {},
   "outputs": [],
   "source": []
  },
  {
   "cell_type": "code",
   "execution_count": null,
   "metadata": {},
   "outputs": [],
   "source": []
  },
  {
   "cell_type": "code",
   "execution_count": null,
   "metadata": {},
   "outputs": [],
   "source": []
  },
  {
   "cell_type": "code",
   "execution_count": null,
   "metadata": {},
   "outputs": [],
   "source": []
  },
  {
   "cell_type": "code",
   "execution_count": null,
   "metadata": {},
   "outputs": [],
   "source": []
  }
 ],
 "metadata": {
  "kernelspec": {
   "display_name": "Python 3",
   "language": "python",
   "name": "python3"
  },
  "language_info": {
   "codemirror_mode": {
    "name": "ipython",
    "version": 3
   },
   "file_extension": ".py",
   "mimetype": "text/x-python",
   "name": "python",
   "nbconvert_exporter": "python",
   "pygments_lexer": "ipython3",
   "version": "3.9.12"
  },
  "orig_nbformat": 4
 },
 "nbformat": 4,
 "nbformat_minor": 2
}
